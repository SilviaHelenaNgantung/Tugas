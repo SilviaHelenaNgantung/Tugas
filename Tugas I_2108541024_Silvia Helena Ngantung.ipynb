{
 "cells": [
  {
   "cell_type": "markdown",
   "id": "c11b2c72",
   "metadata": {},
   "source": [
    "# Print"
   ]
  },
  {
   "cell_type": "code",
   "execution_count": 3,
   "id": "e97ab752",
   "metadata": {},
   "outputs": [
    {
     "name": "stdout",
     "output_type": "stream",
     "text": [
      "Ini Kelas Algoritma!\n"
     ]
    }
   ],
   "source": [
    "print ('Ini Kelas Algoritma!')"
   ]
  },
  {
   "cell_type": "code",
   "execution_count": 4,
   "id": "128972aa",
   "metadata": {},
   "outputs": [
    {
     "name": "stdout",
     "output_type": "stream",
     "text": [
      "Ini Kelas Algoritma\n"
     ]
    }
   ],
   "source": [
    "print (\"Ini Kelas Algoritma\")"
   ]
  },
  {
   "cell_type": "code",
   "execution_count": 5,
   "id": "763e4ba0",
   "metadata": {},
   "outputs": [
    {
     "name": "stdout",
     "output_type": "stream",
     "text": [
      "I don't like you\n"
     ]
    }
   ],
   "source": [
    "print (\"I don't like you\" )"
   ]
  },
  {
   "cell_type": "code",
   "execution_count": 6,
   "id": "001ea0a9",
   "metadata": {},
   "outputs": [
    {
     "name": "stdout",
     "output_type": "stream",
     "text": [
      "He is so \"FUNNY\"\n"
     ]
    }
   ],
   "source": [
    "print ('He is so \"FUNNY\"')"
   ]
  },
  {
   "cell_type": "code",
   "execution_count": 7,
   "id": "e74c86d6",
   "metadata": {},
   "outputs": [
    {
     "name": "stdout",
     "output_type": "stream",
     "text": [
      "You look \"TIRED\" And Have Dark Circles Under Your Eyes\n"
     ]
    }
   ],
   "source": [
    "print ('You look \"TIRED\" And Have Dark Circles Under Your Eyes')"
   ]
  },
  {
   "cell_type": "code",
   "execution_count": 8,
   "id": "0695afd9",
   "metadata": {},
   "outputs": [
    {
     "name": "stdout",
     "output_type": "stream",
     "text": [
      "700000000\n",
      "9000000000\n",
      "6300000000000000000\n"
     ]
    }
   ],
   "source": [
    "gaji_bulan_ini = 700000000\n",
    "uang_di_bank = 9000000000\n",
    "print(gaji_bulan_ini)\n",
    "print (uang_di_bank)\n",
    "print (gaji_bulan_ini*uang_di_bank)"
   ]
  },
  {
   "cell_type": "code",
   "execution_count": 9,
   "id": "0a7269a8",
   "metadata": {},
   "outputs": [
    {
     "name": "stdout",
     "output_type": "stream",
     "text": [
      "SilviaHelenaNgantung\n"
     ]
    }
   ],
   "source": [
    "nama_depan = \"Silvia\"\n",
    "nama_tengah = \"Helena\"\n",
    "nama_belakang = \"Ngantung\"\n",
    "print (nama_depan + nama_tengah + nama_belakang)"
   ]
  },
  {
   "cell_type": "code",
   "execution_count": 10,
   "id": "23fda6f5",
   "metadata": {},
   "outputs": [
    {
     "name": "stdout",
     "output_type": "stream",
     "text": [
      "SilviaHelenaNgantungcantikkkk\n"
     ]
    }
   ],
   "source": [
    "nama_depan = \"Silvia\"\n",
    "nama_tengah = \"Helena\"\n",
    "nama_belakang = \"Ngantung\"\n",
    "nama_paling_belakang = \"cantikkkk\"\n",
    "print (nama_depan + nama_tengah + nama_belakang + nama_paling_belakang)"
   ]
  },
  {
   "cell_type": "markdown",
   "id": "d62a502f",
   "metadata": {},
   "source": []
  },
  {
   "cell_type": "markdown",
   "id": "d0020ec6",
   "metadata": {},
   "source": [
    "# Input"
   ]
  },
  {
   "cell_type": "code",
   "execution_count": 11,
   "id": "22aa1c48",
   "metadata": {},
   "outputs": [
    {
     "name": "stdout",
     "output_type": "stream",
     "text": [
      "Siapakah nama kamu?Helena\n",
      "Apakah hobby anda sekarang, Helena?Makan\n",
      "Semangat Makan nya yahhhh, Helena!!!\n"
     ]
    }
   ],
   "source": [
    "nama = input (\"Siapakah nama kamu?\")\n",
    "kegiatan = input ('Apakah hobby anda sekarang, ' + nama +\"?\")\n",
    "print (\"Semangat \"+ kegiatan +\" nya yahhhh, \" + nama + \"!!!\")"
   ]
  },
  {
   "cell_type": "code",
   "execution_count": 12,
   "id": "9bd821b3",
   "metadata": {},
   "outputs": [
    {
     "name": "stdout",
     "output_type": "stream",
     "text": [
      "Siapakah anda?Silvia\n",
      "Apa tujuan anda, Silvia?Makan gratis\n",
      "Menyenangkan yhh bisa Makan gratis wkwkwkwk, \n"
     ]
    }
   ],
   "source": [
    "nama = input (\"Siapakah anda?\")\n",
    "Kegiatan = input ('Apa tujuan anda, ' + nama +\"?\")\n",
    "print (\"Menyenangkan yhh bisa \"+ kegiatan +\" gratis wkwkwkwk, \")"
   ]
  },
  {
   "cell_type": "markdown",
   "id": "b26e7046",
   "metadata": {},
   "source": []
  },
  {
   "cell_type": "markdown",
   "id": "6940d70a",
   "metadata": {},
   "source": [
    "# Tipe Data pada Python"
   ]
  },
  {
   "cell_type": "raw",
   "id": "87b566d3",
   "metadata": {},
   "source": [
    "Terdapat 4 tipe data pada python. Tipe datanya sebagai berikut, \n",
    "1. Bilangan bulat (int), contohnya: 1,2,3,4,5,100,1000, -20, 0,dll\n",
    "2. Bilangan real (float), contohnya: 1.2, 4.1, -6.3, -2.3, dll\n",
    "3. String (str), contohnya: \"huruf, \"ini contohnya\"\n",
    "4. Boolean (bool), contohnya: True or False"
   ]
  },
  {
   "cell_type": "code",
   "execution_count": 13,
   "id": "44c8dd75",
   "metadata": {},
   "outputs": [
    {
     "name": "stdout",
     "output_type": "stream",
     "text": [
      "Berapakah jumlah uang di dompet anda? 290000\n",
      "Berapakah jumlah uang anda di Bank? 12\n",
      "Total uang anda adalah Rp 29000012\n"
     ]
    }
   ],
   "source": [
    "uang_di_dompet = input(\"Berapakah jumlah uang di dompet anda? \")\n",
    "uang_di_bank = input(\"Berapakah jumlah uang anda di Bank? \")\n",
    "print (\"Total uang anda adalah Rp \" + uang_di_dompet + uang_di_bank)"
   ]
  },
  {
   "cell_type": "code",
   "execution_count": 14,
   "id": "bd646f9a",
   "metadata": {},
   "outputs": [
    {
     "name": "stdout",
     "output_type": "stream",
     "text": [
      "Berapakah jumlah uang di dompet anda? 250\n",
      "Berapakah jumlah uang anda di Bank? 2500000000\n",
      "Total uang anda adalah Rp 2500000250\n"
     ]
    }
   ],
   "source": [
    "uang_di_dompet = input(\"Berapakah jumlah uang di dompet anda? \")\n",
    "uang_di_bank = input(\"Berapakah jumlah uang anda di Bank? \")\n",
    "total_uang = int(uang_di_dompet) + int(uang_di_bank)\n",
    "print(\"Total uang anda adalah Rp \"+ str(total_uang))"
   ]
  },
  {
   "cell_type": "code",
   "execution_count": 16,
   "id": "e7f5d0aa",
   "metadata": {},
   "outputs": [
    {
     "name": "stdout",
     "output_type": "stream",
     "text": [
      "Masukan bilangan pertama: 2\n",
      "Masukan bilangan kedua: 5\n",
      "jumlah kedua bilangan adalah 7.0\n"
     ]
    }
   ],
   "source": [
    "bilangan_satu = input(\"Masukan bilangan pertama: \")\n",
    "bilangan_kedua = input(\"Masukan bilangan kedua: \")\n",
    "jumlah = float(bilangan_satu) + float(bilangan_kedua)\n",
    "print(\"jumlah kedua bilangan adalah \"+ str(jumlah))"
   ]
  },
  {
   "cell_type": "markdown",
   "id": "ad274e98",
   "metadata": {},
   "source": [
    "jumlah kedua bilangan adalah 7.0 tipe data yang dimasukan adalah float"
   ]
  },
  {
   "cell_type": "code",
   "execution_count": 17,
   "id": "20fb0927",
   "metadata": {},
   "outputs": [
    {
     "name": "stdout",
     "output_type": "stream",
     "text": [
      "Masukan bilangan pertama: -20\n",
      "Masukan bilangan kedua: 45\n",
      "jumlah kedua bilangan adalah 25\n"
     ]
    }
   ],
   "source": [
    "bilangan_satu = input(\"Masukan bilangan pertama: \")\n",
    "bilangan_kedua = input(\"Masukan bilangan kedua: \")\n",
    "jumlah = int(bilangan_satu) + int(bilangan_kedua)\n",
    "print(\"jumlah kedua bilangan adalah \"+ str(jumlah))"
   ]
  },
  {
   "cell_type": "code",
   "execution_count": null,
   "id": "6162ee7c",
   "metadata": {},
   "outputs": [],
   "source": [
    "Jumlah kedua bilangan adalah 25 dengan tipe data integer."
   ]
  },
  {
   "cell_type": "markdown",
   "id": "9fd36ed8",
   "metadata": {},
   "source": []
  },
  {
   "cell_type": "markdown",
   "id": "e3f29ee3",
   "metadata": {},
   "source": [
    "# Formatted String"
   ]
  },
  {
   "cell_type": "code",
   "execution_count": null,
   "id": "b73c0f8c",
   "metadata": {},
   "outputs": [],
   "source": [
    "nama = \"Helena\"\n",
    "pekerjaan = 'dosen'\n",
    "institusi = 'Universitas Udayana'\n",
    "print(nama + ' adalah seorang ' + pekerjaan + ' di ' + institusi +'.')"
   ]
  },
  {
   "cell_type": "code",
   "execution_count": null,
   "id": "37613a9c",
   "metadata": {},
   "outputs": [],
   "source": [
    "print(f'{nama} adalah seorang {pekerjaan} di {institusi}.')"
   ]
  },
  {
   "cell_type": "code",
   "execution_count": null,
   "id": "445b86dd",
   "metadata": {},
   "outputs": [],
   "source": [
    "print(f\"{nama} adalah seorang {pekerjaan} di {institusi}.\")"
   ]
  },
  {
   "cell_type": "markdown",
   "id": "a9170998",
   "metadata": {},
   "source": []
  },
  {
   "cell_type": "markdown",
   "id": "841fba08",
   "metadata": {},
   "source": [
    "# Strings Index "
   ]
  },
  {
   "cell_type": "code",
   "execution_count": 18,
   "id": "143cc1f7",
   "metadata": {},
   "outputs": [],
   "source": [
    "kelas = 'ini  kelas algoritma'"
   ]
  },
  {
   "cell_type": "code",
   "execution_count": 19,
   "id": "6a9d1d4b",
   "metadata": {},
   "outputs": [
    {
     "name": "stdout",
     "output_type": "stream",
     "text": [
      "ini\n"
     ]
    }
   ],
   "source": [
    "print(kelas[0:3])"
   ]
  },
  {
   "cell_type": "code",
   "execution_count": 20,
   "id": "473b7fd1",
   "metadata": {},
   "outputs": [
    {
     "name": "stdout",
     "output_type": "stream",
     "text": [
      "ini kelas algoritm\n"
     ]
    }
   ],
   "source": [
    "print(kelas[0:-1])"
   ]
  },
  {
   "cell_type": "code",
   "execution_count": 21,
   "id": "60d3bdae",
   "metadata": {},
   "outputs": [
    {
     "name": "stdout",
     "output_type": "stream",
     "text": [
      "elas algoritm\n"
     ]
    }
   ],
   "source": [
    "print(kelas[5:-1])"
   ]
  },
  {
   "cell_type": "code",
   "execution_count": 22,
   "id": "f9630a9f",
   "metadata": {},
   "outputs": [
    {
     "name": "stdout",
     "output_type": "stream",
     "text": [
      "ieslrm\n"
     ]
    }
   ],
   "source": [
    "print(kelas[2:-1:3])"
   ]
  },
  {
   "cell_type": "code",
   "execution_count": 23,
   "id": "b844a4c6",
   "metadata": {},
   "outputs": [
    {
     "name": "stdout",
     "output_type": "stream",
     "text": [
      "ini kelas algori\n"
     ]
    }
   ],
   "source": [
    "print(kelas[:-3])"
   ]
  },
  {
   "cell_type": "code",
   "execution_count": 24,
   "id": "89f5c305",
   "metadata": {},
   "outputs": [
    {
     "name": "stdout",
     "output_type": "stream",
     "text": [
      "ni kelas algoritma\n"
     ]
    }
   ],
   "source": [
    "print(kelas[1:])"
   ]
  },
  {
   "cell_type": "code",
   "execution_count": 25,
   "id": "39737b7b",
   "metadata": {},
   "outputs": [
    {
     "name": "stdout",
     "output_type": "stream",
     "text": [
      "ini kelas algoritma\n"
     ]
    }
   ],
   "source": [
    "print(kelas[:])"
   ]
  },
  {
   "cell_type": "markdown",
   "id": "09cfd766",
   "metadata": {},
   "source": []
  },
  {
   "cell_type": "markdown",
   "id": "53c0a9f9",
   "metadata": {},
   "source": [
    "# String Methods"
   ]
  },
  {
   "cell_type": "code",
   "execution_count": 27,
   "id": "e16f4dff",
   "metadata": {},
   "outputs": [],
   "source": [
    "judul = 'Raja Ampat Surga Kecil Jatuh ke Bumi'"
   ]
  },
  {
   "cell_type": "code",
   "execution_count": 28,
   "id": "c114ea0a",
   "metadata": {},
   "outputs": [
    {
     "name": "stdout",
     "output_type": "stream",
     "text": [
      "36\n"
     ]
    }
   ],
   "source": [
    "print(len(judul))"
   ]
  },
  {
   "cell_type": "code",
   "execution_count": 29,
   "id": "2831f063",
   "metadata": {},
   "outputs": [
    {
     "data": {
      "text/plain": [
       "'RAJA AMPAT SURGA KECIL JATUH KE BUMI'"
      ]
     },
     "execution_count": 29,
     "metadata": {},
     "output_type": "execute_result"
    }
   ],
   "source": [
    "judul.upper()"
   ]
  },
  {
   "cell_type": "code",
   "execution_count": 30,
   "id": "e7be9e40",
   "metadata": {},
   "outputs": [
    {
     "data": {
      "text/plain": [
       "'raja ampat surga kecil jatuh ke bumi'"
      ]
     },
     "execution_count": 30,
     "metadata": {},
     "output_type": "execute_result"
    }
   ],
   "source": [
    "judul.lower()"
   ]
  },
  {
   "cell_type": "code",
   "execution_count": 32,
   "id": "8d6011a5",
   "metadata": {},
   "outputs": [
    {
     "data": {
      "text/plain": [
       "5"
      ]
     },
     "execution_count": 32,
     "metadata": {},
     "output_type": "execute_result"
    }
   ],
   "source": [
    "judul.find('Ampat')"
   ]
  },
  {
   "cell_type": "code",
   "execution_count": 33,
   "id": "5e3027fe",
   "metadata": {},
   "outputs": [
    {
     "data": {
      "text/plain": [
       "32"
      ]
     },
     "execution_count": 33,
     "metadata": {},
     "output_type": "execute_result"
    }
   ],
   "source": [
    "judul.find('Bumi')"
   ]
  },
  {
   "cell_type": "code",
   "execution_count": 37,
   "id": "a1b42736",
   "metadata": {},
   "outputs": [
    {
     "data": {
      "text/plain": [
       "'Papua Surga Kecil Jatuh ke Bumi'"
      ]
     },
     "execution_count": 37,
     "metadata": {},
     "output_type": "execute_result"
    }
   ],
   "source": [
    "judul.replace('Raja Ampat', 'Papua')"
   ]
  },
  {
   "cell_type": "code",
   "execution_count": 38,
   "id": "94809d82",
   "metadata": {},
   "outputs": [
    {
     "data": {
      "text/plain": [
       "'Indonesia Surga Kecil Jatuh ke Bumi'"
      ]
     },
     "execution_count": 38,
     "metadata": {},
     "output_type": "execute_result"
    }
   ],
   "source": [
    "judul.replace('Raja Ampat', 'Indonesia')"
   ]
  },
  {
   "cell_type": "code",
   "execution_count": 39,
   "id": "d4bda33b",
   "metadata": {},
   "outputs": [
    {
     "name": "stdout",
     "output_type": "stream",
     "text": [
      "True\n"
     ]
    }
   ],
   "source": [
    "print('Raja Ampat' in judul)"
   ]
  },
  {
   "cell_type": "code",
   "execution_count": 40,
   "id": "18edcd66",
   "metadata": {},
   "outputs": [
    {
     "name": "stdout",
     "output_type": "stream",
     "text": [
      "False\n"
     ]
    }
   ],
   "source": [
    "print('Papua' in judul)"
   ]
  },
  {
   "cell_type": "markdown",
   "id": "d619d3fb",
   "metadata": {},
   "source": []
  },
  {
   "cell_type": "markdown",
   "id": "a421a8bd",
   "metadata": {},
   "source": [
    "# Operasi Matematika di Python"
   ]
  },
  {
   "cell_type": "code",
   "execution_count": null,
   "id": "0f4738c2",
   "metadata": {},
   "outputs": [],
   "source": [
    "Operasi-operasi matematika di Python sebagai berikut:\n",
    "    Penjumlahan (+)\n",
    "    Pengurangan (-)\n",
    "    Perkalian (*)\n",
    "    Pembagian (/)\n",
    "    Pembulatan pembagian (//)\n",
    "    Modulo (%)\n",
    "    Pemangkatan (**)\n",
    "    Augmented Operator"
   ]
  },
  {
   "cell_type": "code",
   "execution_count": 41,
   "id": "a1052c00",
   "metadata": {},
   "outputs": [
    {
     "name": "stdout",
     "output_type": "stream",
     "text": [
      "11\n",
      "-1\n",
      "56\n",
      "1.6\n",
      "1\n",
      "1\n",
      "25\n",
      "6\n",
      "3\n",
      "12\n"
     ]
    }
   ],
   "source": [
    "print(5+6)\n",
    "print(4-5)\n",
    "print(7*8)\n",
    "print(8/5)\n",
    "print(8//5)\n",
    "print(7%6)\n",
    "print(5**2)\n",
    "x=4\n",
    "x+=2\n",
    "print(x)\n",
    "x-=3\n",
    "print(x)\n",
    "x*=4\n",
    "print(x)"
   ]
  },
  {
   "cell_type": "markdown",
   "id": "f00cbcd2",
   "metadata": {},
   "source": []
  },
  {
   "cell_type": "markdown",
   "id": "f37f820b",
   "metadata": {},
   "source": [
    "# Operator Perbandingan di Python"
   ]
  },
  {
   "cell_type": "markdown",
   "id": "9f3de661",
   "metadata": {},
   "source": [
    "Terdapat beberapa operator perbandingan pada python, sebagai berikut:\n",
    "Lebih Besar (>)\n",
    "Lebih kecil (<)\n",
    "Lebih besar sama dengan (>=)\n",
    "Lebih kecil sama dengan (<=)\n",
    "Sama dengan (==)\n",
    "Tidak sama dengan (!=)"
   ]
  },
  {
   "cell_type": "code",
   "execution_count": 42,
   "id": "7220b518",
   "metadata": {},
   "outputs": [
    {
     "name": "stdout",
     "output_type": "stream",
     "text": [
      "True\n",
      "True\n",
      "True\n",
      "True\n",
      "True\n",
      "True\n"
     ]
    }
   ],
   "source": [
    "x = 5>4\n",
    "print(x)\n",
    "x = 4<5\n",
    "print(x)\n",
    "x = 5 >= 4\n",
    "print(x)\n",
    "x = 4 <= 5\n",
    "print(x)\n",
    "x = 5 == 5\n",
    "print(x)\n",
    "x = 4 != 5\n",
    "print(x)"
   ]
  },
  {
   "cell_type": "code",
   "execution_count": 43,
   "id": "7fe715d9",
   "metadata": {},
   "outputs": [
    {
     "name": "stdout",
     "output_type": "stream",
     "text": [
      "False\n",
      "False\n",
      "False\n",
      "False\n",
      "False\n",
      "False\n"
     ]
    }
   ],
   "source": [
    "x = 5<4\n",
    "print(x)\n",
    "x = 4>5\n",
    "print(x)\n",
    "x = 5 <= 4\n",
    "print(x)\n",
    "x = 4 >= 5\n",
    "print(x)\n",
    "x = 5 == 4\n",
    "print(x)\n",
    "x = 4 != 4\n",
    "print(x)"
   ]
  },
  {
   "cell_type": "markdown",
   "id": "d4c18e7b",
   "metadata": {},
   "source": []
  },
  {
   "cell_type": "markdown",
   "id": "fa6e2e02",
   "metadata": {},
   "source": [
    "# Operator Logika di Phyton"
   ]
  },
  {
   "cell_type": "code",
   "execution_count": 47,
   "id": "2c9f9454",
   "metadata": {},
   "outputs": [
    {
     "name": "stdout",
     "output_type": "stream",
     "text": [
      "True\n"
     ]
    }
   ],
   "source": [
    "telur_kalkun = 100 \n",
    "telur_itik = 50 \n",
    "print (telur_kalkun > 95 and telur_itik < 80)"
   ]
  },
  {
   "cell_type": "code",
   "execution_count": 48,
   "id": "c86490e9",
   "metadata": {},
   "outputs": [
    {
     "name": "stdout",
     "output_type": "stream",
     "text": [
      "True\n"
     ]
    }
   ],
   "source": [
    "print (telur_kalkun > 70 or telur_itik < 80)"
   ]
  },
  {
   "cell_type": "code",
   "execution_count": 49,
   "id": "98d28987",
   "metadata": {},
   "outputs": [
    {
     "name": "stdout",
     "output_type": "stream",
     "text": [
      "False\n"
     ]
    }
   ],
   "source": [
    "print (telur_kalkun < 70 or telur_itik > 80)"
   ]
  },
  {
   "cell_type": "code",
   "execution_count": 50,
   "id": "ed13c583",
   "metadata": {},
   "outputs": [
    {
     "name": "stdout",
     "output_type": "stream",
     "text": [
      "True\n"
     ]
    }
   ],
   "source": [
    "print (telur_kalkun < 70 or telur_itik < 80)"
   ]
  },
  {
   "cell_type": "code",
   "execution_count": 51,
   "id": "3ceeedfd",
   "metadata": {},
   "outputs": [
    {
     "name": "stdout",
     "output_type": "stream",
     "text": [
      "True\n"
     ]
    }
   ],
   "source": [
    "print(not(telur_kalkun < 70 or telur_itik > 80))"
   ]
  },
  {
   "cell_type": "markdown",
   "id": "c0c88901",
   "metadata": {},
   "source": []
  },
  {
   "cell_type": "markdown",
   "id": "b1a06209",
   "metadata": {},
   "source": [
    "# Operator if di Phyton"
   ]
  },
  {
   "cell_type": "code",
   "execution_count": 54,
   "id": "a120454d",
   "metadata": {},
   "outputs": [
    {
     "name": "stdout",
     "output_type": "stream",
     "text": [
      "Nilai anda adalah 75\n",
      "Anda mendapatkan nilai B\n",
      "fighting!!!! you can get it\n"
     ]
    }
   ],
   "source": [
    "nilai  = float(input(\"Nilai anda adalah \"))\n",
    "if nilai >= 85:\n",
    "    print(\"Anda Mendapatkan nilai A\")\n",
    "    print(\"kamu hebattt!!!\")\n",
    "if nilai < 80 and nilai >= 70:\n",
    "    print(\"Anda mendapatkan nilai B\")\n",
    "    print(\"fighting!!!! you can get it\")\n",
    "if nilai >= 60 and nilai < 70:\n",
    "    print(\"Anda mendapatkan nilai C\")\n",
    "    print(\"Lain kali harus lebih semangat lagi belajarnya\")\n",
    "if nilai >= 50 and nilai < 60:\n",
    "    print(\"Anda mendapatkan nilai D\")\n",
    "    print(\"Jangan menyerah yahhh!!!\")\n",
    "if nilai < 50:\n",
    "    print(\"Anda mendapatkan nilai E\")\n",
    "    print(\"Kamu sihhh malassss\")"
   ]
  },
  {
   "cell_type": "code",
   "execution_count": 57,
   "id": "8488f363",
   "metadata": {},
   "outputs": [
    {
     "name": "stdout",
     "output_type": "stream",
     "text": [
      "Nilai anda adalah 84\n",
      "Anda mendapatkan nilai B\n",
      "fighting!!!! you can get it\n"
     ]
    }
   ],
   "source": [
    "nilai  = float(input(\"Nilai anda adalah \"))\n",
    "if nilai >= 85:\n",
    "    print(\"Anda Mendapatkan nilai A\")\n",
    "    print(\"kamu hebattt!!!\")\n",
    "elif nilai >= 70:\n",
    "    print(\"Anda mendapatkan nilai B\")\n",
    "    print(\"fighting!!!! you can get it\")\n",
    "elif nilai >= 60:\n",
    "    print(\"Anda mendapatkan nilai C\")\n",
    "    print(\"Lain kali harus lebih semangat lagi belajarnya\")\n",
    "elif nilai >= 50:\n",
    "    print(\"Anda mendapatkan nilai D\")\n",
    "    print(\"Jangan menyerah yahhh!!!\")\n",
    "else:\n",
    "    print(\"Anda mendapatkan nilai E\")\n",
    "    print(\"Kamu sihhh malassss\")"
   ]
  },
  {
   "cell_type": "code",
   "execution_count": 58,
   "id": "f97c166c",
   "metadata": {},
   "outputs": [
    {
     "name": "stdout",
     "output_type": "stream",
     "text": [
      "Berapakah tinggi anda? 162\n",
      "Tingginya dalam cm atau inci? cm\n",
      "Tinggi anda adalah 60.572124 inci \n"
     ]
    }
   ],
   "source": [
    "tinggi = float(input(\"Berapakah tinggi anda? \"))\n",
    "cm_atau_inci = input(\"Tingginya dalam cm atau inci? \")\n",
    "\n",
    "if cm_atau_inci.upper() == 'CM':\n",
    "    tinggi = tinggi*0.373902\n",
    "    print(\"Tinggi anda adalah \" + str(tinggi) + \" inci \")\n",
    "elif cm_atau_inci.upper() == 'INCI':\n",
    "    tinggi = tinggi/0.373902\n",
    "    print(f\"Tinggi anda adalah {tinggi} cm\")"
   ]
  },
  {
   "cell_type": "markdown",
   "id": "5cb17b28",
   "metadata": {},
   "source": []
  },
  {
   "cell_type": "markdown",
   "id": "f93bfd75",
   "metadata": {},
   "source": [
    "# While Loop"
   ]
  },
  {
   "cell_type": "code",
   "execution_count": 61,
   "id": "e3666488",
   "metadata": {},
   "outputs": [
    {
     "name": "stdout",
     "output_type": "stream",
     "text": [
      "Angka 2 masih dibawah 8\n",
      "Angka 3 masih dibawah 8\n",
      "Angka 4 masih dibawah 8\n",
      "Angka 5 masih dibawah 8\n",
      "Angka 6 masih dibawah 8\n",
      "Angka 7 masih dibawah 8\n"
     ]
    }
   ],
   "source": [
    "a = 2\n",
    "while a < 8:\n",
    "    print(\"Angka \" + str(a)+\" masih dibawah 8\")\n",
    "    a += 1"
   ]
  },
  {
   "cell_type": "code",
   "execution_count": 62,
   "id": "5eac379f",
   "metadata": {},
   "outputs": [
    {
     "name": "stdout",
     "output_type": "stream",
     "text": [
      "\n",
      "*\n",
      "**\n",
      "***\n",
      "****\n"
     ]
    }
   ],
   "source": [
    "a = 0\n",
    "while a < 5:\n",
    "    print(a * '*')\n",
    "    a += 1"
   ]
  },
  {
   "cell_type": "code",
   "execution_count": null,
   "id": "33d61537",
   "metadata": {},
   "outputs": [],
   "source": []
  }
 ],
 "metadata": {
  "kernelspec": {
   "display_name": "Python 3 (ipykernel)",
   "language": "python",
   "name": "python3"
  },
  "language_info": {
   "codemirror_mode": {
    "name": "ipython",
    "version": 3
   },
   "file_extension": ".py",
   "mimetype": "text/x-python",
   "name": "python",
   "nbconvert_exporter": "python",
   "pygments_lexer": "ipython3",
   "version": "3.9.7"
  }
 },
 "nbformat": 4,
 "nbformat_minor": 5
}
